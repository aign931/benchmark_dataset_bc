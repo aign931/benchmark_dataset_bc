{
 "cells": [
  {
   "cell_type": "code",
   "execution_count": 1,
   "id": "f7ea914d",
   "metadata": {},
   "outputs": [
    {
     "name": "stderr",
     "output_type": "stream",
     "text": [
      "IProgress not found. Please update jupyter and ipywidgets. See https://ipywidgets.readthedocs.io/en/stable/user_install.html\n",
      "Using TensorFlow backend.\n"
     ]
    }
   ],
   "source": [
    "# Import dependencies\n",
    "import pandas as pd\n",
    "import numpy as np\n",
    "import shap\n",
    "import matplotlib.pyplot as plt\n",
    "import tensorflow as tf\n",
    "from models import CNN_Model"
   ]
  },
  {
   "cell_type": "code",
   "execution_count": 2,
   "id": "7a386e5f",
   "metadata": {},
   "outputs": [
    {
     "name": "stdout",
     "output_type": "stream",
     "text": [
      "WARNING:tensorflow:From /home/ning/miniconda3/envs/mvp_env/lib/python3.7/site-packages/keras/backend/tensorflow_backend.py:517: The name tf.placeholder is deprecated. Please use tf.compat.v1.placeholder instead.\n",
      "\n",
      "WARNING:tensorflow:From /home/ning/miniconda3/envs/mvp_env/lib/python3.7/site-packages/keras/backend/tensorflow_backend.py:74: The name tf.get_default_graph is deprecated. Please use tf.compat.v1.get_default_graph instead.\n",
      "\n",
      "WARNING:tensorflow:From /home/ning/miniconda3/envs/mvp_env/lib/python3.7/site-packages/keras/backend/tensorflow_backend.py:4138: The name tf.random_uniform is deprecated. Please use tf.random.uniform instead.\n",
      "\n",
      "WARNING:tensorflow:From /home/ning/miniconda3/envs/mvp_env/lib/python3.7/site-packages/keras/optimizers.py:790: The name tf.train.Optimizer is deprecated. Please use tf.compat.v1.train.Optimizer instead.\n",
      "\n",
      "WARNING:tensorflow:From /home/ning/miniconda3/envs/mvp_env/lib/python3.7/site-packages/keras/backend/tensorflow_backend.py:3376: The name tf.log is deprecated. Please use tf.math.log instead.\n",
      "\n",
      "WARNING:tensorflow:From /home/ning/miniconda3/envs/mvp_env/lib/python3.7/site-packages/tensorflow_core/python/ops/nn_impl.py:183: where (from tensorflow.python.ops.array_ops) is deprecated and will be removed in a future version.\n",
      "Instructions for updating:\n",
      "Use tf.where in 2.0, which has the same broadcast rule as np.where\n",
      "WARNING:tensorflow:From /home/ning/miniconda3/envs/mvp_env/lib/python3.7/site-packages/keras/backend/tensorflow_backend.py:174: The name tf.get_default_session is deprecated. Please use tf.compat.v1.get_default_session instead.\n",
      "\n",
      "WARNING:tensorflow:From /home/ning/miniconda3/envs/mvp_env/lib/python3.7/site-packages/keras/backend/tensorflow_backend.py:181: The name tf.ConfigProto is deprecated. Please use tf.compat.v1.ConfigProto instead.\n",
      "\n",
      "WARNING:tensorflow:From /home/ning/miniconda3/envs/mvp_env/lib/python3.7/site-packages/keras/backend/tensorflow_backend.py:186: The name tf.Session is deprecated. Please use tf.compat.v1.Session instead.\n",
      "\n"
     ]
    },
    {
     "name": "stderr",
     "output_type": "stream",
     "text": [
      "Update your `Model` call to the Keras 2 API: `Model(inputs=Tensor(\"in..., outputs=Tensor(\"ac...)`\n",
      "2025-04-24 00:54:09.454608: I tensorflow/core/platform/cpu_feature_guard.cc:142] Your CPU supports instructions that this TensorFlow binary was not compiled to use: AVX2 FMA\n",
      "2025-04-24 00:54:09.473002: I tensorflow/core/platform/profile_utils/cpu_utils.cc:94] CPU Frequency: 3110410000 Hz\n",
      "2025-04-24 00:54:09.476735: I tensorflow/compiler/xla/service/service.cc:168] XLA service 0x71d5fc0 initialized for platform Host (this does not guarantee that XLA will be used). Devices:\n",
      "2025-04-24 00:54:09.476771: I tensorflow/compiler/xla/service/service.cc:176]   StreamExecutor device (0): Host, Default Version\n",
      "2025-04-24 00:54:09.491929: I tensorflow/stream_executor/platform/default/dso_loader.cc:44] Successfully opened dynamic library libcuda.so.1\n"
     ]
    },
    {
     "name": "stdout",
     "output_type": "stream",
     "text": [
      "WARNING:tensorflow:From /home/ning/miniconda3/envs/mvp_env/lib/python3.7/site-packages/keras/backend/tensorflow_backend.py:190: The name tf.global_variables is deprecated. Please use tf.compat.v1.global_variables instead.\n",
      "\n",
      "WARNING:tensorflow:From /home/ning/miniconda3/envs/mvp_env/lib/python3.7/site-packages/keras/backend/tensorflow_backend.py:199: The name tf.is_variable_initialized is deprecated. Please use tf.compat.v1.is_variable_initialized instead.\n",
      "\n",
      "WARNING:tensorflow:From /home/ning/miniconda3/envs/mvp_env/lib/python3.7/site-packages/keras/backend/tensorflow_backend.py:206: The name tf.variables_initializer is deprecated. Please use tf.compat.v1.variables_initializer instead.\n",
      "\n",
      "Trained model loaded successfully!\n"
     ]
    },
    {
     "name": "stderr",
     "output_type": "stream",
     "text": [
      "2025-04-24 00:54:10.045222: E tensorflow/stream_executor/cuda/cuda_gpu_executor.cc:969] could not open file to read NUMA node: /sys/bus/pci/devices/0000:01:00.0/numa_node\n",
      "Your kernel may have been built without NUMA support.\n",
      "2025-04-24 00:54:10.045400: I tensorflow/compiler/xla/service/service.cc:168] XLA service 0x7285c20 initialized for platform CUDA (this does not guarantee that XLA will be used). Devices:\n",
      "2025-04-24 00:54:10.045415: I tensorflow/compiler/xla/service/service.cc:176]   StreamExecutor device (0): NVIDIA GeForce RTX 2050, Compute Capability 8.6\n",
      "2025-04-24 00:54:10.049340: E tensorflow/stream_executor/cuda/cuda_gpu_executor.cc:969] could not open file to read NUMA node: /sys/bus/pci/devices/0000:01:00.0/numa_node\n",
      "Your kernel may have been built without NUMA support.\n",
      "2025-04-24 00:54:10.049382: I tensorflow/core/common_runtime/gpu/gpu_device.cc:1618] Found device 0 with properties: \n",
      "name: NVIDIA GeForce RTX 2050 major: 8 minor: 6 memoryClockRate(GHz): 1.245\n",
      "pciBusID: 0000:01:00.0\n",
      "2025-04-24 00:54:10.049494: W tensorflow/stream_executor/platform/default/dso_loader.cc:55] Could not load dynamic library 'libcudart.so.10.0'; dlerror: libcudart.so.10.0: cannot open shared object file: No such file or directory\n",
      "2025-04-24 00:54:10.049548: W tensorflow/stream_executor/platform/default/dso_loader.cc:55] Could not load dynamic library 'libcublas.so.10.0'; dlerror: libcublas.so.10.0: cannot open shared object file: No such file or directory\n",
      "2025-04-24 00:54:10.049581: W tensorflow/stream_executor/platform/default/dso_loader.cc:55] Could not load dynamic library 'libcufft.so.10.0'; dlerror: libcufft.so.10.0: cannot open shared object file: No such file or directory\n",
      "2025-04-24 00:54:10.049613: W tensorflow/stream_executor/platform/default/dso_loader.cc:55] Could not load dynamic library 'libcurand.so.10.0'; dlerror: libcurand.so.10.0: cannot open shared object file: No such file or directory\n",
      "2025-04-24 00:54:10.049653: W tensorflow/stream_executor/platform/default/dso_loader.cc:55] Could not load dynamic library 'libcusolver.so.10.0'; dlerror: libcusolver.so.10.0: cannot open shared object file: No such file or directory\n",
      "2025-04-24 00:54:10.049684: W tensorflow/stream_executor/platform/default/dso_loader.cc:55] Could not load dynamic library 'libcusparse.so.10.0'; dlerror: libcusparse.so.10.0: cannot open shared object file: No such file or directory\n",
      "2025-04-24 00:54:10.049716: W tensorflow/stream_executor/platform/default/dso_loader.cc:55] Could not load dynamic library 'libcudnn.so.7'; dlerror: libcudnn.so.7: cannot open shared object file: No such file or directory\n",
      "2025-04-24 00:54:10.049720: W tensorflow/core/common_runtime/gpu/gpu_device.cc:1641] Cannot dlopen some GPU libraries. Please make sure the missing libraries mentioned above are installed properly if you would like to use GPU. Follow the guide at https://www.tensorflow.org/install/gpu for how to download and setup the required libraries for your platform.\n",
      "Skipping registering GPU devices...\n",
      "2025-04-24 00:54:10.049733: I tensorflow/core/common_runtime/gpu/gpu_device.cc:1159] Device interconnect StreamExecutor with strength 1 edge matrix:\n",
      "2025-04-24 00:54:10.049737: I tensorflow/core/common_runtime/gpu/gpu_device.cc:1165]      0 \n",
      "2025-04-24 00:54:10.049739: I tensorflow/core/common_runtime/gpu/gpu_device.cc:1178] 0:   N \n"
     ]
    }
   ],
   "source": [
    "# Load trained model\n",
    "weights_path = 'trained_mvp_model_original_data.h5'\n",
    "\n",
    "exclude_cols = {\n",
    "    'var_id', 'aaref', 'aaalt', 'target', 'Ensembl_transcriptid',\n",
    "    'ref', 'alt', 'category', 'source', 'INFO', 'disease', 'genename',\n",
    "    '#chr', 'pos(1-based)',  'hg19_chr', 'hg19_pos(1-based)',\n",
    "    'CADD_phred', '1000Gp3_AF', 'ExAC_AF', 'gnomad',\n",
    "    'RVIS', 'mis_badness', 'MPC', 'REVEL', 'domino'\n",
    "}\n",
    "\n",
    "model = CNN_Model(\n",
    "    weights_path=weights_path,\n",
    "    exclude_cols=exclude_cols,\n",
    "    train_flag=False,\n",
    "    verbose=2,\n",
    "    name='res_HIS_original_data',\n",
    "    fname='../data/mvp_input_data_cleaned.HIS.csv',\n",
    "    f_out='../data/mvp_output_data_mode5.csv'\n",
    ")\n",
    "\n",
    "model._init_model(verbose=False)\n",
    "model.model.load_weights(weights_path)\n",
    "print(\"Trained model loaded successfully!\")"
   ]
  },
  {
   "cell_type": "code",
   "execution_count": 3,
   "id": "999738ba",
   "metadata": {},
   "outputs": [
    {
     "name": "stdout",
     "output_type": "stream",
     "text": [
      "WARNING:tensorflow:From /tmp/ipykernel_23539/3487128120.py:15: The name tf.keras.backend.get_session is deprecated. Please use tf.compat.v1.keras.backend.get_session instead.\n",
      "\n"
     ]
    },
    {
     "name": "stderr",
     "output_type": "stream",
     "text": [
      "2025-04-24 00:54:20.843729: E tensorflow/stream_executor/cuda/cuda_gpu_executor.cc:969] could not open file to read NUMA node: /sys/bus/pci/devices/0000:01:00.0/numa_node\n",
      "Your kernel may have been built without NUMA support.\n",
      "2025-04-24 00:54:20.843787: I tensorflow/core/common_runtime/gpu/gpu_device.cc:1618] Found device 0 with properties: \n",
      "name: NVIDIA GeForce RTX 2050 major: 8 minor: 6 memoryClockRate(GHz): 1.245\n",
      "pciBusID: 0000:01:00.0\n",
      "2025-04-24 00:54:20.843924: W tensorflow/stream_executor/platform/default/dso_loader.cc:55] Could not load dynamic library 'libcudart.so.10.0'; dlerror: libcudart.so.10.0: cannot open shared object file: No such file or directory\n",
      "2025-04-24 00:54:20.843981: W tensorflow/stream_executor/platform/default/dso_loader.cc:55] Could not load dynamic library 'libcublas.so.10.0'; dlerror: libcublas.so.10.0: cannot open shared object file: No such file or directory\n",
      "2025-04-24 00:54:20.844015: W tensorflow/stream_executor/platform/default/dso_loader.cc:55] Could not load dynamic library 'libcufft.so.10.0'; dlerror: libcufft.so.10.0: cannot open shared object file: No such file or directory\n",
      "2025-04-24 00:54:20.844067: W tensorflow/stream_executor/platform/default/dso_loader.cc:55] Could not load dynamic library 'libcurand.so.10.0'; dlerror: libcurand.so.10.0: cannot open shared object file: No such file or directory\n",
      "2025-04-24 00:54:20.844124: W tensorflow/stream_executor/platform/default/dso_loader.cc:55] Could not load dynamic library 'libcusolver.so.10.0'; dlerror: libcusolver.so.10.0: cannot open shared object file: No such file or directory\n",
      "2025-04-24 00:54:20.844157: W tensorflow/stream_executor/platform/default/dso_loader.cc:55] Could not load dynamic library 'libcusparse.so.10.0'; dlerror: libcusparse.so.10.0: cannot open shared object file: No such file or directory\n",
      "2025-04-24 00:54:20.844214: W tensorflow/stream_executor/platform/default/dso_loader.cc:55] Could not load dynamic library 'libcudnn.so.7'; dlerror: libcudnn.so.7: cannot open shared object file: No such file or directory\n",
      "2025-04-24 00:54:20.844220: W tensorflow/core/common_runtime/gpu/gpu_device.cc:1641] Cannot dlopen some GPU libraries. Please make sure the missing libraries mentioned above are installed properly if you would like to use GPU. Follow the guide at https://www.tensorflow.org/install/gpu for how to download and setup the required libraries for your platform.\n",
      "Skipping registering GPU devices...\n",
      "2025-04-24 00:54:20.844812: I tensorflow/core/common_runtime/gpu/gpu_device.cc:1159] Device interconnect StreamExecutor with strength 1 edge matrix:\n",
      "2025-04-24 00:54:20.844835: I tensorflow/core/common_runtime/gpu/gpu_device.cc:1165]      \n",
      "keras is no longer supported, please use tf.keras instead.\n"
     ]
    }
   ],
   "source": [
    "# Load data for SHAP analysis\n",
    "df = pd.read_csv('../data/mvp_input_data_cleaned.HIS.csv')\n",
    "feature_cols = [col for col in df.columns if col != 'target']\n",
    "X = df[feature_cols].values\n",
    "\n",
    "# Sample background and explanation data\n",
    "np.random.seed(2025)\n",
    "idx_bg = np.random.choice(X.shape[0], 100, replace=False)\n",
    "idx_explain = np.random.choice(X.shape[0], 50, replace=False)\n",
    "\n",
    "X_bg = X[idx_bg].reshape((-1, 54, 1, 1))\n",
    "X_explain = X[idx_explain].reshape((-1, 54, 1, 1))\n",
    "\n",
    "# Initialize SHAP DeepExplainer\n",
    "tf.compat.v1.keras.backend.get_session().run(tf.compat.v1.global_variables_initializer())\n",
    "explainer = shap.DeepExplainer(model.model, X_bg)\n",
    "shap_values = explainer.shap_values(X_explain)\n",
    "\n",
    "# SHAP values for plotting\n",
    "X_explain_flat = X_explain.reshape((X_explain.shape[0], X_explain.shape[1]))\n",
    "shap_values_flat = shap_values[0].reshape((shap_values[0].shape[0], shap_values[0].shape[1]))\n"
   ]
  },
  {
   "cell_type": "code",
   "execution_count": 4,
   "id": "906d806c",
   "metadata": {},
   "outputs": [
    {
     "name": "stdout",
     "output_type": "stream",
     "text": [
      "SHAP beeswarm plot saved\n"
     ]
    }
   ],
   "source": [
    "# SHAP beeswarm plot\n",
    "shap.summary_plot(\n",
    "    shap_values_flat, \n",
    "    features=X_explain_flat, \n",
    "    feature_names=feature_cols,\n",
    "    max_display=54,\n",
    "    show=False\n",
    ")\n",
    "plt.savefig('../results/mvp_origninal_data_shap_beeswarm_summary.png', dpi=300, bbox_inches='tight')\n",
    "print(\"SHAP beeswarm plot saved\")\n"
   ]
  },
  {
   "cell_type": "code",
   "execution_count": 5,
   "id": "c982366b",
   "metadata": {},
   "outputs": [
    {
     "name": "stdout",
     "output_type": "stream",
     "text": [
      "SHAP bar chart saved\n"
     ]
    }
   ],
   "source": [
    "# SHAP bar chart of mean absolute values\n",
    "mean_shap = np.abs(shap_values_flat).mean(axis=0)\n",
    "sorted_idx = np.argsort(mean_shap)\n",
    "sorted_shap_values = mean_shap[sorted_idx]\n",
    "sorted_feature_names = np.array(feature_cols)[sorted_idx]\n",
    "\n",
    "plt.figure(figsize=(8, 18))\n",
    "plt.barh(sorted_feature_names, sorted_shap_values, color='dodgerblue')\n",
    "plt.xlabel('Mean(|SHAP value|)', fontsize=12)\n",
    "plt.title('Global Feature Importance (SHAP, no direction)', fontsize=14)\n",
    "plt.grid(True, axis='x', linestyle='--', alpha=0.6)\n",
    "plt.tight_layout()\n",
    "plt.savefig('../results/mvp_origninal_data_shap_bar_plot_summary.png', dpi=300, bbox_inches='tight')\n",
    "print(\"SHAP bar chart saved\")"
   ]
  }
 ],
 "metadata": {
  "kernelspec": {
   "display_name": "mvp_env",
   "language": "python",
   "name": "python3"
  },
  "language_info": {
   "codemirror_mode": {
    "name": "ipython",
    "version": 3
   },
   "file_extension": ".py",
   "mimetype": "text/x-python",
   "name": "python",
   "nbconvert_exporter": "python",
   "pygments_lexer": "ipython3",
   "version": "3.7.16"
  }
 },
 "nbformat": 4,
 "nbformat_minor": 5
}
